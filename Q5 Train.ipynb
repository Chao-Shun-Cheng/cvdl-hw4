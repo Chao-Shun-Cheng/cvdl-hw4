{
 "cells": [
  {
   "cell_type": "code",
   "execution_count": 1,
   "metadata": {},
   "outputs": [],
   "source": [
    "import tensorflow.compat.v2 as tf \n",
    "from tensorflow.keras.preprocessing.image import ImageDataGenerator\n",
    "import matplotlib.pyplot as plt    \n",
    "import tensorflow.keras\n",
    "from tensorflow.keras.optimizers import SGD\n",
    "from tensorflow.keras.models import Sequential\n",
    "from tensorflow.keras.layers import  Dense, Flatten, Activation,Conv2D, MaxPooling2D\n",
    "import datetime\n",
    "# import tensorflow.keras.backend as K\n",
    "from tensorflow.keras.callbacks import TensorBoard\n",
    "import os"
   ]
  },
  {
   "cell_type": "code",
   "execution_count": 2,
   "metadata": {},
   "outputs": [
    {
     "name": "stdout",
     "output_type": "stream",
     "text": [
      "Found 18696 images belonging to 2 classes.\n",
      "Found 6302 images belonging to 2 classes.\n"
     ]
    }
   ],
   "source": [
    "# K.clear_session()\n",
    "datagen = ImageDataGenerator(rescale=1.0/255.0)\n",
    "\n",
    "# prepare iterators\n",
    "train_it = datagen.flow_from_directory('dataset_dogs_vs_cats/train/',\n",
    "    class_mode='categorical', batch_size=32, target_size=(200, 200))\n",
    "test_it = datagen.flow_from_directory('dataset_dogs_vs_cats/test/',\n",
    "    class_mode='categorical', batch_size=32, target_size=(200, 200))"
   ]
  },
  {
   "cell_type": "code",
   "execution_count": 4,
   "metadata": {},
   "outputs": [
    {
     "data": {
      "text/plain": [
       "{'cats': 0, 'dogs': 1}"
      ]
     },
     "execution_count": 4,
     "metadata": {},
     "output_type": "execute_result"
    }
   ],
   "source": [
    "train_it.class_indices"
   ]
  },
  {
   "cell_type": "code",
   "execution_count": 4,
   "metadata": {},
   "outputs": [],
   "source": [
    "Model = tensorflow.keras.applications.resnet.ResNet50(include_top=True, weights=None, input_tensor=None, \n",
    "                                   input_shape=(200, 200, 3), pooling=None, classes=2)\n",
    "opt = tensorflow.keras.optimizers.Adam(lr=0.01, beta_1=0.9, beta_2=0.999, epsilon=None, decay=0.0, amsgrad=False)\n",
    "Model.compile(optimizer=opt, loss='categorical_crossentropy', metrics=['accuracy'])"
   ]
  },
  {
   "cell_type": "code",
   "execution_count": 5,
   "metadata": {},
   "outputs": [],
   "source": [
    "# # K.clear_session()\n",
    "log_dir=\"logs\\\\fit\\\\\" + datetime.datetime.now().strftime(\"%Y%m%d-%H%M%S\")\n",
    "# tensorboard_callback = tf.keras.callbacks.TensorBoard(log_dir=log_dir, histogram_freq=1)\n",
    "# log_dir=\"F:\\\" + datetime.datetime.now().strftime(\"%Y%m%d-%H%M%S\")\n",
    "tensorboard_callback = tf.keras.callbacks.TensorBoard(log_dir=log_dir, histogram_freq=1)"
   ]
  },
  {
   "cell_type": "code",
   "execution_count": 6,
   "metadata": {
    "scrolled": true
   },
   "outputs": [
    {
     "name": "stdout",
     "output_type": "stream",
     "text": [
      "WARNING:tensorflow:From <ipython-input-6-197898f55597>:2: Model.fit_generator (from tensorflow.python.keras.engine.training) is deprecated and will be removed in a future version.\n",
      "Instructions for updating:\n",
      "Please use Model.fit, which supports generators.\n",
      "WARNING:tensorflow:sample_weight modes were coerced from\n",
      "  ...\n",
      "    to  \n",
      "  ['...']\n",
      "WARNING:tensorflow:sample_weight modes were coerced from\n",
      "  ...\n",
      "    to  \n",
      "  ['...']\n",
      "Train for 585 steps, validate for 197 steps\n",
      "Epoch 1/5\n",
      "166/585 [=======>......................] - ETA: 2:07 - loss: 1.2373 - accuracy: 0.5247"
     ]
    },
    {
     "name": "stderr",
     "output_type": "stream",
     "text": [
      "C:\\Users\\mec-lab\\Anaconda3\\envs\\gpu\\lib\\site-packages\\PIL\\TiffImagePlugin.py:771: UserWarning: Possibly corrupt EXIF data.  Expecting to read 32 bytes but only got 0. Skipping tag 270\n",
      "  \"Possibly corrupt EXIF data.  \"\n",
      "C:\\Users\\mec-lab\\Anaconda3\\envs\\gpu\\lib\\site-packages\\PIL\\TiffImagePlugin.py:771: UserWarning: Possibly corrupt EXIF data.  Expecting to read 5 bytes but only got 0. Skipping tag 271\n",
      "  \"Possibly corrupt EXIF data.  \"\n",
      "C:\\Users\\mec-lab\\Anaconda3\\envs\\gpu\\lib\\site-packages\\PIL\\TiffImagePlugin.py:771: UserWarning: Possibly corrupt EXIF data.  Expecting to read 8 bytes but only got 0. Skipping tag 272\n",
      "  \"Possibly corrupt EXIF data.  \"\n",
      "C:\\Users\\mec-lab\\Anaconda3\\envs\\gpu\\lib\\site-packages\\PIL\\TiffImagePlugin.py:771: UserWarning: Possibly corrupt EXIF data.  Expecting to read 8 bytes but only got 0. Skipping tag 282\n",
      "  \"Possibly corrupt EXIF data.  \"\n",
      "C:\\Users\\mec-lab\\Anaconda3\\envs\\gpu\\lib\\site-packages\\PIL\\TiffImagePlugin.py:771: UserWarning: Possibly corrupt EXIF data.  Expecting to read 8 bytes but only got 0. Skipping tag 283\n",
      "  \"Possibly corrupt EXIF data.  \"\n",
      "C:\\Users\\mec-lab\\Anaconda3\\envs\\gpu\\lib\\site-packages\\PIL\\TiffImagePlugin.py:771: UserWarning: Possibly corrupt EXIF data.  Expecting to read 20 bytes but only got 0. Skipping tag 306\n",
      "  \"Possibly corrupt EXIF data.  \"\n",
      "C:\\Users\\mec-lab\\Anaconda3\\envs\\gpu\\lib\\site-packages\\PIL\\TiffImagePlugin.py:771: UserWarning: Possibly corrupt EXIF data.  Expecting to read 48 bytes but only got 0. Skipping tag 532\n",
      "  \"Possibly corrupt EXIF data.  \"\n",
      "C:\\Users\\mec-lab\\Anaconda3\\envs\\gpu\\lib\\site-packages\\PIL\\TiffImagePlugin.py:792: UserWarning: Corrupt EXIF data.  Expecting to read 2 bytes but only got 0. \n",
      "  warnings.warn(str(msg))\n"
     ]
    },
    {
     "name": "stdout",
     "output_type": "stream",
     "text": [
      "585/585 [==============================] - 182s 311ms/step - loss: 0.8484 - accuracy: 0.5610 - val_loss: 0.6561 - val_accuracy: 0.6222\n",
      "Epoch 2/5\n",
      "585/585 [==============================] - 176s 302ms/step - loss: 0.6414 - accuracy: 0.6304 - val_loss: 1.2631 - val_accuracy: 0.5725\n",
      "Epoch 3/5\n",
      "585/585 [==============================] - 175s 299ms/step - loss: 0.6132 - accuracy: 0.6635 - val_loss: 0.6922 - val_accuracy: 0.6490\n",
      "Epoch 4/5\n",
      "585/585 [==============================] - 175s 298ms/step - loss: 0.5635 - accuracy: 0.7123 - val_loss: 0.9583 - val_accuracy: 0.5904\n",
      "Epoch 5/5\n",
      "585/585 [==============================] - 175s 298ms/step - loss: 0.5464 - accuracy: 0.7255 - val_loss: 0.6382 - val_accuracy: 0.6547\n"
     ]
    }
   ],
   "source": [
    "history = Model.fit_generator(train_it, steps_per_epoch=len(train_it),\n",
    "    validation_data=test_it, validation_steps=len(test_it), epochs=5, verbose=1,callbacks=[tensorboard_callback])\n",
    "Model.save('Q5_Model.h5')"
   ]
  }
 ],
 "metadata": {
  "kernelspec": {
   "display_name": "Python 3",
   "language": "python",
   "name": "python3"
  },
  "language_info": {
   "codemirror_mode": {
    "name": "ipython",
    "version": 3
   },
   "file_extension": ".py",
   "mimetype": "text/x-python",
   "name": "python",
   "nbconvert_exporter": "python",
   "pygments_lexer": "ipython3",
   "version": "3.7.0"
  }
 },
 "nbformat": 4,
 "nbformat_minor": 4
}
